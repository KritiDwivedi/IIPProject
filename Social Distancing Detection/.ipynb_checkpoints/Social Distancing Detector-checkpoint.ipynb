{
 "cells": [
  {
   "cell_type": "markdown",
   "id": "e1790710",
   "metadata": {},
   "source": [
    "# Creating Lists of Location, Violations, Time and dates"
   ]
  },
  {
   "cell_type": "code",
   "execution_count": 4,
   "id": "22a3a927",
   "metadata": {},
   "outputs": [],
   "source": [
    "locations=[]\n",
    "violation=[]\n",
    "time=[]\n",
    "date_of=[]"
   ]
  },
  {
   "cell_type": "markdown",
   "id": "718a68d2",
   "metadata": {},
   "source": [
    "# Importing Dependencies"
   ]
  },
  {
   "cell_type": "code",
   "execution_count": 5,
   "id": "ad0f90ea",
   "metadata": {},
   "outputs": [],
   "source": [
    "import cv2\n",
    "import os\n",
    "import numpy as np\n",
    "import smtplib\n",
    "from datetime import datetime\n",
    "from datetime import date\n",
    "import pandas as pd"
   ]
  },
  {
   "cell_type": "code",
   "execution_count": null,
   "id": "ccc55c00",
   "metadata": {},
   "outputs": [],
   "source": [
    "from scipy.spatial import distance as dist\n",
    "import imutils"
   ]
  },
  {
   "cell_type": "code",
   "execution_count": 5,
   "id": "4ddfda91",
   "metadata": {},
   "outputs": [],
   "source": [
    "MODEL_PATH = \"yolo-coco\"\n",
    "\n",
    "MIN_CONF = 0.3\n",
    "NMS_THRESH = 0.3\n",
    "\n",
    "USE_GPU = False\n",
    "MIN_DISTANCE = 50"
   ]
  },
  {
   "cell_type": "markdown",
   "id": "883e36b7",
   "metadata": {},
   "source": [
    "# Setting up models for the Detection"
   ]
  },
  {
   "cell_type": "code",
   "execution_count": 6,
   "id": "fd698b1a",
   "metadata": {},
   "outputs": [
    {
     "name": "stdout",
     "output_type": "stream",
     "text": [
      "['person', 'bicycle', 'car', 'motorbike', 'aeroplane', 'bus', 'train', 'truck', 'boat', 'traffic light', 'fire hydrant', 'stop sign', 'parking meter', 'bench', 'bird', 'cat', 'dog', 'horse', 'sheep', 'cow', 'elephant', 'bear', 'zebra', 'giraffe', 'backpack', 'umbrella', 'handbag', 'tie', 'suitcase', 'frisbee', 'skis', 'snowboard', 'sports ball', 'kite', 'baseball bat', 'baseball glove', 'skateboard', 'surfboard', 'tennis racket', 'bottle', 'wine glass', 'cup', 'fork', 'knife', 'spoon', 'bowl', 'banana', 'apple', 'sandwich', 'orange', 'broccoli', 'carrot', 'hot dog', 'pizza', 'donut', 'cake', 'chair', 'sofa', 'pottedplant', 'bed', 'diningtable', 'toilet', 'tvmonitor', 'laptop', 'mouse', 'remote', 'keyboard', 'cell phone', 'microwave', 'oven', 'toaster', 'sink', 'refrigerator', 'book', 'clock', 'vase', 'scissors', 'teddy bear', 'hair drier', 'toothbrush']\n",
      "80\n",
      "[INFO] loading YOLO from disk...\n"
     ]
    }
   ],
   "source": [
    "labelsPath = os.path.sep.join([MODEL_PATH, \"coco.names\"])\n",
    "LABELS = open(labelsPath).read().strip().split(\"\\n\")\n",
    "\n",
    "print(LABELS)\n",
    "\n",
    "print(len(LABELS))\n",
    "\n",
    "weightsPath = os.path.sep.join([MODEL_PATH, \"yolov3.weights\"])\n",
    "configPath = os.path.sep.join([MODEL_PATH, \"yolov3.cfg\"])\n",
    "\n",
    "print(\"[INFO] loading YOLO from disk...\")\n",
    "net = cv2.dnn.readNetFromDarknet(configPath, weightsPath)"
   ]
  },
  {
   "cell_type": "code",
   "execution_count": 7,
   "id": "b08f9bbb",
   "metadata": {},
   "outputs": [],
   "source": [
    "if USE_GPU:\n",
    "    print(\"Setting preferable backend and target to CUDA...\")\n",
    "    net.setPreferableBackend(cv2.dnn.DNN_BACKEND_CUDA)\n",
    "    net.setPreferableTarget(cv2.dnn.DNN_TARGET_CUDA)"
   ]
  },
  {
   "cell_type": "code",
   "execution_count": null,
   "id": "88725e92",
   "metadata": {},
   "outputs": [],
   "source": [
    "ln = net.getLayerNames()\n",
    "ln = [ln[i[0] - 1] for i in net.getUnconnectedOutLayers()]"
   ]
  },
  {
   "cell_type": "markdown",
   "id": "4cab9046",
   "metadata": {},
   "source": [
    "# Accessing The Video Stream"
   ]
  },
  {
   "cell_type": "code",
   "execution_count": 9,
   "id": "1c1629ab",
   "metadata": {},
   "outputs": [
    {
     "name": "stdout",
     "output_type": "stream",
     "text": [
      "Accessing video stream...\n",
      "FPS of the current video:  30.0\n",
      "Number of frames in the video:  1650.0\n"
     ]
    }
   ],
   "source": [
    "print(\"Accessing video stream...\")\n",
    "vs = cv2.VideoCapture(\"Input-1.mp4\")\n",
    "fps = vs.get(cv2.CAP_PROP_FPS)\n",
    "print(\"FPS of the current video: \",fps)\n",
    "\n",
    "num_frames = vs.get(cv2.CAP_PROP_FRAME_COUNT)\n",
    "print(\"Number of frames in the video: \",num_frames)\n",
    "\n",
    "writer = None"
   ]
  },
  {
   "cell_type": "markdown",
   "id": "7a5d0f3a",
   "metadata": {},
   "source": [
    "# Detecting People"
   ]
  },
  {
   "cell_type": "code",
   "execution_count": 10,
   "id": "7181ed55",
   "metadata": {},
   "outputs": [],
   "source": [
    "def detect_people(frame, net, ln, personIdx=0):\n",
    "    (H, W) = frame.shape[:2]\n",
    "    results = []\n",
    "\n",
    "    blob = cv2.dnn.blobFromImage(frame, 1 / 255.0, (416, 416), swapRB=True, crop=False)\n",
    "    net.setInput(blob)\n",
    "    layerOutputs = net.forward(ln)\n",
    "\n",
    "    boxes = []\n",
    "    centroids = []\n",
    "    confidences = []\n",
    "\n",
    "    for output in layerOutputs:\n",
    "\n",
    "        for detection in output:\n",
    "            scores = detection[5:]\n",
    "            classID = np.argmax(scores)\n",
    "            confidence = scores[classID]\n",
    "\n",
    "            if classID == personIdx and confidence > MIN_CONF:\n",
    "\n",
    "                box = detection[0:4] * np.array([W, H, W, H])\n",
    "                (centerX, centerY, width, height) = box.astype(\"int\")\n",
    "\n",
    "                x = int(centerX - (width / 2))\n",
    "                y = int(centerY - (height / 2))\n",
    "\n",
    "                boxes.append([x, y, int(width), int(height)])\n",
    "                centroids.append((centerX, centerY))\n",
    "                confidences.append(float(confidence))\n",
    "\n",
    "    idxs = cv2.dnn.NMSBoxes(boxes, confidences, MIN_CONF, NMS_THRESH)\n",
    "\n",
    "    if len(idxs) > 0:\n",
    "        for i in idxs.flatten():\n",
    "\n",
    "            (x, y) = (boxes[i][0], boxes[i][1])\n",
    "            (w, h) = (boxes[i][2], boxes[i][3])\n",
    "\n",
    "            r = (confidences[i], (x, y, x + w, y + h), centroids[i])\n",
    "            results.append(r)\n",
    "\n",
    "    return results"
   ]
  },
  {
   "cell_type": "markdown",
   "id": "f36901d9",
   "metadata": {},
   "source": [
    "# Output File"
   ]
  },
  {
   "cell_type": "code",
   "execution_count": 11,
   "id": "1c545fc6",
   "metadata": {},
   "outputs": [],
   "source": [
    "display = 1\n",
    "output = \"Output-1.gif\""
   ]
  },
  {
   "cell_type": "markdown",
   "id": "3fbe85e7",
   "metadata": {},
   "source": [
    "# Finding the number of Social Distancing Violations"
   ]
  },
  {
   "cell_type": "code",
   "execution_count": null,
   "id": "60b74ca1",
   "metadata": {},
   "outputs": [],
   "source": [
    "while True:\n",
    "    (grabbed, frame) = vs.read()\n",
    "\n",
    "    if not grabbed:\n",
    "        break\n",
    "\n",
    "    frame = imutils.resize(frame, width=700)\n",
    "    results = detect_people(frame, net, ln, personIdx=LABELS.index(\"person\"))\n",
    "\n",
    "    violate = set()\n",
    "\n",
    "    if len(results) >= 2:\n",
    "\n",
    "        centroids = np.array([r[2] for r in results])\n",
    "        D = dist.cdist(centroids, centroids, metric=\"euclidean\")\n",
    "\n",
    "        for i in range(0, D.shape[0]):\n",
    "            for j in range(i + 1, D.shape[1]):\n",
    "\n",
    "                if D[i, j] < MIN_DISTANCE:\n",
    "\n",
    "                    violate.add(i)\n",
    "                    violate.add(j)\n",
    "\n",
    "    for (i, (prob, bbox, centroid)) in enumerate(results):\n",
    "        (startX, startY, endX, endY) = bbox\n",
    "        (cX, cY) = centroid\n",
    "        color = (0, 255, 0)\n",
    "\n",
    "        if i in violate:\n",
    "            color = (0, 0, 255)\n",
    "\n",
    "        cv2.rectangle(frame, (startX, startY), (endX, endY), color, 2)\n",
    "        cv2.circle(frame, (cX, cY), 5, color, 1)\n",
    "\n",
    "    text = \"Social Distancing Violations: {}\".format(len(violate))\n",
    "    cv2.putText(frame, text, (10, frame.shape[0] - 25), cv2.FONT_HERSHEY_SIMPLEX, 0.85, (0, 0, 255), 3)\n",
    "\n",
    "    if display > 0:\n",
    "        cv2.imshow(\"Frame\", frame)\n",
    "        key = cv2.waitKey(1) & 0xFF\n",
    "\n",
    "        if key == ord(\"q\"):\n",
    "            break\n",
    "\n",
    "    if output != \"\" and writer is None:\n",
    "        fourcc = cv2.VideoWriter_fourcc(*\"MJPG\")\n",
    "        writer = cv2.VideoWriter(output, fourcc, 25, (frame.shape[1], frame.shape[0]), True)\n",
    "\n",
    "    if writer is not None:\n",
    "        writer.write(frame)"
   ]
  },
  {
   "cell_type": "markdown",
   "id": "93f9cf63",
   "metadata": {},
   "source": [
    "# Sending mail"
   ]
  },
  {
   "cell_type": "code",
   "execution_count": 6,
   "id": "ef955ef8",
   "metadata": {},
   "outputs": [],
   "source": [
    "violations = 30\n",
    "Location = 'Nehru Road Mumbai'\n",
    "now = datetime.now()\n",
    "current_time = now.strftime(\"%H:%M:%S\")\n",
    "today = date.today()\n",
    "date_today = date.isoformat(today)\n",
    "\n",
    "if(violations>25):\n",
    "    sender_email = \"karthiksbh1@gmail.com\"\n",
    "    rec_email = \"karthiksbh1@gmail.com\"\n",
    "    \n",
    "    message = \"There have been \" + str(violations) + \" Social Distancing Violations at \" + str(Location) + \" on \" + str(date_today)\n",
    "    \n",
    "    server = smtplib.SMTP('smtp.gmail.com', 587)\n",
    "    server.starttls()\n",
    "    server.login(sender_email, \"dummy@1234\")\n",
    "\n",
    "    server.sendmail(sender_email, rec_email, message)"
   ]
  },
  {
   "cell_type": "markdown",
   "id": "b869286a",
   "metadata": {},
   "source": [
    "# Storing the Data in Excel"
   ]
  },
  {
   "cell_type": "code",
   "execution_count": 7,
   "id": "b08b7d3a",
   "metadata": {},
   "outputs": [],
   "source": [
    "now = datetime.now()\n",
    "current_time = now.strftime(\"%H:%M:%S\")\n",
    "today = date.today()\n",
    "date_today = date.isoformat(today)\n",
    "\n",
    "locations.append(Location)\n",
    "\n",
    "violation.append(violations)\n",
    "\n",
    "time.append(current_time)\n",
    "\n",
    "date_of.append(date_today)\n",
    "\n",
    "data = pd.DataFrame({'Location of Violation':locations,'Number of Violations':violation,'Date':date_of,'Time':time})\n",
    "\n",
    "datatoexcel = pd.ExcelWriter(\"Dataset_SocialDist.xlsx\",engine = 'xlsxwriter')\n",
    "\n",
    "data.to_excel(datatoexcel,sheet_name = 'Sheet1')\n",
    "\n",
    "datatoexcel.save()"
   ]
  },
  {
   "cell_type": "code",
   "execution_count": null,
   "id": "5708858a",
   "metadata": {},
   "outputs": [],
   "source": []
  }
 ],
 "metadata": {
  "kernelspec": {
   "display_name": "Python 3",
   "language": "python",
   "name": "python3"
  },
  "language_info": {
   "codemirror_mode": {
    "name": "ipython",
    "version": 3
   },
   "file_extension": ".py",
   "mimetype": "text/x-python",
   "name": "python",
   "nbconvert_exporter": "python",
   "pygments_lexer": "ipython3",
   "version": "3.8.8"
  }
 },
 "nbformat": 4,
 "nbformat_minor": 5
}
