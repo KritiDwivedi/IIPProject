{
 "cells": [
  {
   "cell_type": "markdown",
   "id": "257e500d",
   "metadata": {},
   "source": [
    "# Creating Lists of People, Time and dates"
   ]
  },
  {
   "cell_type": "code",
   "execution_count": 4,
   "id": "3d4c4c8c",
   "metadata": {},
   "outputs": [],
   "source": [
    "people=[]\n",
    "time=[]\n",
    "date_of=[]"
   ]
  },
  {
   "cell_type": "markdown",
   "id": "952f2348",
   "metadata": {},
   "source": [
    "# Importing Dependencies"
   ]
  },
  {
   "cell_type": "code",
   "execution_count": 5,
   "id": "e2b4970d",
   "metadata": {},
   "outputs": [],
   "source": [
    "from keras.models import load_model\n",
    "import cv2\n",
    "import numpy as np\n",
    "\n",
    "import smtplib\n",
    "from datetime import datetime\n",
    "from datetime import date\n",
    "import pandas as pd"
   ]
  },
  {
   "cell_type": "markdown",
   "id": "07fe7dfe",
   "metadata": {},
   "source": [
    "# Loading the Model"
   ]
  },
  {
   "cell_type": "code",
   "execution_count": 6,
   "id": "a111064f",
   "metadata": {},
   "outputs": [],
   "source": [
    "model = load_model('model-017.model')\n",
    "\n",
    "face_clsfr=cv2.CascadeClassifier('haarcascade_frontalface_default.xml')\n",
    "\n",
    "source=cv2.VideoCapture(0)\n",
    "\n",
    "labels_dict={0:'MASK',1:'NO MASK'}\n",
    "color_dict={0:(0,255,0),1:(0,0,255)}"
   ]
  },
  {
   "cell_type": "markdown",
   "id": "871b3b31",
   "metadata": {},
   "source": [
    "# Face Capture and Mask Detection"
   ]
  },
  {
   "cell_type": "code",
   "execution_count": 7,
   "id": "d722500f",
   "metadata": {},
   "outputs": [
    {
     "name": "stdout",
     "output_type": "stream",
     "text": [
      "Enter the name of the user: Karthik\n"
     ]
    }
   ],
   "source": [
    "person_name  = input(\"Enter the name of the user: \")\n",
    "mask_on = 0\n",
    "\n",
    "while(True):\n",
    "\n",
    "    ret,img=source.read()\n",
    "    gray=cv2.cvtColor(img,cv2.COLOR_BGR2GRAY)\n",
    "    faces=face_clsfr.detectMultiScale(gray,1.3,5)  \n",
    "\n",
    "    for x,y,w,h in faces:\n",
    "    \n",
    "        face_img=gray[y:y+h,x:x+w]\n",
    "        resized=cv2.resize(face_img,(100,100))\n",
    "        normalized=resized/255.0\n",
    "        reshaped=np.reshape(normalized,(1,100,100,1))\n",
    "        result=model.predict(reshaped)\n",
    "\n",
    "        label=np.argmax(result,axis=1)[0]\n",
    "        \n",
    "        \n",
    "        if(mask_on == 0 and label==1):\n",
    "            mask_on =1\n",
    "            \n",
    "        \n",
    "        cv2.rectangle(img,(x,y),(x+w,y+h),color_dict[label],2)\n",
    "        cv2.rectangle(img,(x,y-40),(x+w,y),color_dict[label],-1)\n",
    "        cv2.putText(img, str(\"   \") + labels_dict[label], (x, y-10),cv2.FONT_HERSHEY_SIMPLEX,0.8,(255,255,255),2)\n",
    "        \n",
    "        \n",
    "    cv2.imshow('LIVE',img)\n",
    "    key=cv2.waitKey(1)\n",
    "    \n",
    "    if(key==27):\n",
    "        break     \n",
    "\n",
    "cv2.destroyAllWindows()\n",
    "source.release()"
   ]
  },
  {
   "cell_type": "markdown",
   "id": "65bc2fb5",
   "metadata": {},
   "source": [
    "# Send Mail"
   ]
  },
  {
   "cell_type": "code",
   "execution_count": 8,
   "id": "d9dca3a8",
   "metadata": {},
   "outputs": [],
   "source": [
    "now = datetime.now()\n",
    "current_time = now.strftime(\"%H:%M:%S\")\n",
    "today = date.today()\n",
    "date_today = date.isoformat(today)\n",
    "\n",
    "if(mask_on==1):\n",
    "    sender_email = \"karthiksbh1@gmail.com\"\n",
    "    rec_email = \"karthiksbh1@gmail.com\"\n",
    "    \n",
    "    message = \"Person named \" + str(person_name) + \" has Been Detected without a Face Mask in your area on \" + str(date_today)\n",
    "    \n",
    "    server = smtplib.SMTP('smtp.gmail.com', 587)\n",
    "    server.starttls()\n",
    "    server.login(sender_email, \"dummy@1234\")\n",
    "\n",
    "    server.sendmail(sender_email, rec_email, message)"
   ]
  },
  {
   "cell_type": "markdown",
   "id": "9410aa28",
   "metadata": {},
   "source": [
    "# Store in Excel"
   ]
  },
  {
   "cell_type": "code",
   "execution_count": 9,
   "id": "39cc5238",
   "metadata": {},
   "outputs": [],
   "source": [
    "now = datetime.now()\n",
    "current_time = now.strftime(\"%H:%M:%S\")\n",
    "today = date.today()\n",
    "date_today = date.isoformat(today)\n",
    "\n",
    "people.append(person_name)\n",
    "\n",
    "time.append(current_time)\n",
    "\n",
    "date_of.append(date_today)\n",
    "\n",
    "data = pd.DataFrame({'Name of the Person':people,'Date':date_of,'Time':time})\n",
    "\n",
    "datatoexcel = pd.ExcelWriter(\"Dataset.xlsx\",engine = 'xlsxwriter')\n",
    "\n",
    "data.to_excel(datatoexcel,sheet_name = 'Sheet1')\n",
    "\n",
    "datatoexcel.save()"
   ]
  },
  {
   "cell_type": "code",
   "execution_count": null,
   "id": "9e894200",
   "metadata": {},
   "outputs": [],
   "source": []
  }
 ],
 "metadata": {
  "kernelspec": {
   "display_name": "Python 3",
   "language": "python",
   "name": "python3"
  },
  "language_info": {
   "codemirror_mode": {
    "name": "ipython",
    "version": 3
   },
   "file_extension": ".py",
   "mimetype": "text/x-python",
   "name": "python",
   "nbconvert_exporter": "python",
   "pygments_lexer": "ipython3",
   "version": "3.8.8"
  }
 },
 "nbformat": 4,
 "nbformat_minor": 5
}
